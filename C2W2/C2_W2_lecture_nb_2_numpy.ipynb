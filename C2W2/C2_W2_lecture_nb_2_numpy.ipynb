{
 "cells": [
  {
   "cell_type": "markdown",
   "id": "09ca24bc-e58f-40f9-8823-fe98be9c248d",
   "metadata": {},
   "source": [
    "# Parts-of-Speech Tagging - Working with tags and Numpy"
   ]
  },
  {
   "cell_type": "markdown",
   "id": "61135299-6f2f-4158-ac60-207a5805c7e4",
   "metadata": {},
   "source": [
    "In this lecture notebook you will create a matrix using some tag information and then modify it using different approaches.\n",
    "This will serve as hands-on experience working with Numpy and as an introduction to some elements used for POS tagging."
   ]
  },
  {
   "cell_type": "code",
   "execution_count": 1,
   "id": "4291ed23-9f34-4990-99e1-dcb218818516",
   "metadata": {},
   "outputs": [],
   "source": [
    "import numpy as np\n",
    "import pandas as pd"
   ]
  },
  {
   "cell_type": "markdown",
   "id": "42a226c4-c90c-4473-b626-e9ddb1c50498",
   "metadata": {},
   "source": [
    "### Some information on tags"
   ]
  },
  {
   "cell_type": "markdown",
   "id": "0717781f-a13f-430c-a033-829094362fc0",
   "metadata": {},
   "source": [
    "For this notebook you will be using a toy example including only three tags (or states). In a real world application there are many more tags which can be found [here](https://www.ling.upenn.edu/courses/Fall_2003/ling001/penn_treebank_pos.html)."
   ]
  },
  {
   "cell_type": "code",
   "execution_count": 2,
   "id": "ec5f865c-bdcc-4e8c-9b3f-4fb2e1112ec9",
   "metadata": {},
   "outputs": [],
   "source": [
    "# Define tags for Adverb, Noun and To (the preposition) , respectively\n",
    "tags = ['RB','NN','TO']"
   ]
  },
  {
   "cell_type": "markdown",
   "id": "71e5959c-bad8-474d-b471-a35219ed47a7",
   "metadata": {},
   "source": [
    "In this week's assignment you will construct some dictionaries that provide useful information of the tags and words you will be working with. \n",
    "\n",
    "One of these dictionaries is the `transition_counts` which counts the number of times a particular tag happened next to another. The keys of this dictionary have the form `(previous_tag, tag)` and the values are the frequency of occurrences.\n",
    "\n",
    "Another one is the `emission_counts` dictionary which will count the number of times a particular pair of `(tag, word)` appeared in the training dataset.\n",
    "\n",
    "In general think of `transition` when working with tags only and of `emission` when working with tags and words.\n",
    "\n",
    "In this notebook you will be looking at the first one:"
   ]
  },
  {
   "cell_type": "code",
   "execution_count": 3,
   "id": "b0d8052d-0aa4-45f4-9d61-b8300a34bd36",
   "metadata": {},
   "outputs": [],
   "source": [
    "# Define 'transition_counts' dictionary\n",
    "# Note: values are the same as the ones in the assignment\n",
    "transition_counts = {\n",
    "    ('NN', 'NN'): 16241,\n",
    "    ('RB', 'RB'): 2263,\n",
    "    ('TO', 'TO'): 2,\n",
    "    ('NN', 'TO'): 5256,\n",
    "    ('RB', 'TO'): 855,\n",
    "    ('TO', 'NN'): 734,\n",
    "    ('NN', 'RB'): 2431,\n",
    "    ('RB', 'NN'): 358,\n",
    "    ('TO', 'RB'): 200\n",
    "}"
   ]
  },
  {
   "cell_type": "markdown",
   "id": "88884c8b-ad0a-4709-a548-df6ece71ed59",
   "metadata": {},
   "source": [
    "Notice that there are 9 combinations of the 3 tags used. Each tag can appear after the same tag so you should include those as well.\n",
    "\n",
    "### Using Numpy for matrix creation\n",
    "\n",
    "Now you will create a matrix that includes these frequencies using Numpy arrays:"
   ]
  },
  {
   "cell_type": "code",
   "execution_count": 4,
   "id": "967cbc76-eb68-4b39-945a-349cf7b407fc",
   "metadata": {},
   "outputs": [
    {
     "data": {
      "text/plain": [
       "array([[0., 0., 0.],\n",
       "       [0., 0., 0.],\n",
       "       [0., 0., 0.]])"
      ]
     },
     "execution_count": 4,
     "metadata": {},
     "output_type": "execute_result"
    }
   ],
   "source": [
    "# Store the number of tags in the 'num_tags' variable\n",
    "num_tags = len(tags)\n",
    "\n",
    "# Initialize a 3x3 numpy array with zeros\n",
    "transition_matrix = np.zeros((num_tags, num_tags))\n",
    "\n",
    "# Print matrix\n",
    "transition_matrix"
   ]
  },
  {
   "cell_type": "markdown",
   "id": "0489587b-94e6-4624-8ff4-95ea11bcc802",
   "metadata": {},
   "source": [
    "Visually you can see the matrix has the correct dimensions. Don't forget you can check this too using the `shape` attribute:"
   ]
  },
  {
   "cell_type": "code",
   "execution_count": 5,
   "id": "88150ecd-d09c-46d6-97db-9d0bbd8373d6",
   "metadata": {},
   "outputs": [
    {
     "data": {
      "text/plain": [
       "(3, 3)"
      ]
     },
     "execution_count": 5,
     "metadata": {},
     "output_type": "execute_result"
    }
   ],
   "source": [
    "# Print shape of the matrix\n",
    "transition_matrix.shape"
   ]
  },
  {
   "cell_type": "markdown",
   "id": "fd58ceb5-4e6a-4865-9b5e-9c7e2905abc3",
   "metadata": {},
   "source": [
    "Before filling this matrix with the values of the `transition_counts` dictionary you should sort the tags so that their placement in the matrix is consistent:"
   ]
  },
  {
   "cell_type": "code",
   "execution_count": 6,
   "id": "87e65e53-de47-4124-884f-16f98b5d9738",
   "metadata": {},
   "outputs": [
    {
     "data": {
      "text/plain": [
       "['NN', 'RB', 'TO']"
      ]
     },
     "execution_count": 6,
     "metadata": {},
     "output_type": "execute_result"
    }
   ],
   "source": [
    "# Create sorted version of the tag's list\n",
    "sorted_tags  =sorted(tags)\n",
    "\n",
    "# Print sorted list\n",
    "sorted_tags"
   ]
  },
  {
   "cell_type": "markdown",
   "id": "2097732f-5e6e-415c-a951-1cbeed1b2b3e",
   "metadata": {},
   "source": [
    "To fill this matrix with the correct values you can use a `double for loop`. You could also use `itertools.product` to one line this double loop:"
   ]
  },
  {
   "cell_type": "code",
   "execution_count": 7,
   "id": "ffc982bc-a9d8-4f38-8a06-b97947b100d4",
   "metadata": {},
   "outputs": [
    {
     "data": {
      "text/plain": [
       "array([[1.6241e+04, 2.4310e+03, 5.2560e+03],\n",
       "       [3.5800e+02, 2.2630e+03, 8.5500e+02],\n",
       "       [7.3400e+02, 2.0000e+02, 2.0000e+00]])"
      ]
     },
     "execution_count": 7,
     "metadata": {},
     "output_type": "execute_result"
    }
   ],
   "source": [
    "# Loop rows\n",
    "for i in range(num_tags):\n",
    "    # Loop columns\n",
    "    for j in range(num_tags):\n",
    "        # Define tag pair\n",
    "        tag_tuple = (sorted_tags[i], sorted_tags[j])\n",
    "        # Get frequency from transition_counts dict and assign to (i, j) position in the matrix\n",
    "        transition_matrix[i,j] = transition_counts.get(tag_tuple)\n",
    "\n",
    "# Print matrix\n",
    "transition_matrix"
   ]
  },
  {
   "cell_type": "markdown",
   "id": "dd769564-a2d5-43dc-b2b4-11cc68515683",
   "metadata": {},
   "source": [
    "Looks like this worked fine. However the matrix can be hard to read as `Numpy` is more about efficiency, rather than presenting values in a pretty format. \n",
    "\n",
    "For this you can use a `Pandas DataFrame`. In particular, a function that takes the matrix as input and prints out a pretty version of it will be very useful:"
   ]
  },
  {
   "cell_type": "code",
   "execution_count": 8,
   "id": "b06af4ad-f8d2-4066-a26a-6f63c42032c2",
   "metadata": {},
   "outputs": [],
   "source": [
    "# Define 'print_matrix' function\n",
    "def print_matrix(matrix):\n",
    "    print(pd.DataFrame(matrix, index=sorted_tags, columns=sorted_tags))"
   ]
  },
  {
   "cell_type": "markdown",
   "id": "8ff11f3d-440b-40f0-85a2-d78f109f1520",
   "metadata": {},
   "source": [
    "Notice that the tags are not a parameter of the function. This is because the `sorted_tags` list will not change in the rest of the notebook so it is safe to use the variable previously declared. To test this function simply run: "
   ]
  },
  {
   "cell_type": "code",
   "execution_count": 9,
   "id": "450f7d5d-b3db-4c37-aea6-b44c201383f4",
   "metadata": {},
   "outputs": [
    {
     "name": "stdout",
     "output_type": "stream",
     "text": [
      "         NN      RB      TO\n",
      "NN  16241.0  2431.0  5256.0\n",
      "RB    358.0  2263.0   855.0\n",
      "TO    734.0   200.0     2.0\n"
     ]
    }
   ],
   "source": [
    "# Print the 'transition_matrix' by calling the 'print_matrix' function\n",
    "print_matrix(transition_matrix)"
   ]
  },
  {
   "cell_type": "markdown",
   "id": "7e344bb9-86c3-4680-8b44-1d41b04be8bf",
   "metadata": {},
   "source": [
    "That is a lot better, isn't it? \n",
    "\n",
    "As you may have already deducted this matrix is not symmetrical."
   ]
  },
  {
   "cell_type": "markdown",
   "id": "627bb14b-edc4-4736-83b5-ac92e7026640",
   "metadata": {},
   "source": [
    "### Working with Numpy for matrix manipulation\n",
    "\n",
    "\n",
    "Now that you got the matrix set up it is time to see how a matrix can be manipulated after being created. \n",
    "\n",
    "`Numpy` allows vectorized operations which means that operations that would normally include looping over the matrix can be done in a simpler manner. This is consistent with treating numpy arrays as matrices since you get support for common matrix operations. You can do matrix multiplication, scalar multiplication, vector addition and many more!\n",
    "\n",
    "For instance try scaling each value in the matrix by a factor of $\\frac{1}{10}$. Normally you would loop over each value in the matrix, updating them accordingly. But in Numpy this is as easy as dividing the whole matrix by 10:"
   ]
  },
  {
   "cell_type": "code",
   "execution_count": 10,
   "id": "6fb66f18-8d1c-4293-b631-ac0bcd2fe043",
   "metadata": {},
   "outputs": [
    {
     "name": "stdout",
     "output_type": "stream",
     "text": [
      "        NN     RB     TO\n",
      "NN  1624.1  243.1  525.6\n",
      "RB    35.8  226.3   85.5\n",
      "TO    73.4   20.0    0.2\n"
     ]
    }
   ],
   "source": [
    "# Scale transition matrix\n",
    "transition_matrix = transition_matrix/10\n",
    "\n",
    "# Print scaled matrix\n",
    "print_matrix(transition_matrix)"
   ]
  },
  {
   "cell_type": "markdown",
   "id": "762e7061-fcbe-48dd-8c86-bc2fda28182b",
   "metadata": {},
   "source": [
    "Another trickier example is to normalize each row so that each value is equal to $\\frac{value}{sum \\,of \\,row}$.\n",
    "\n",
    "This can be easily done with vectorization. First you will compute the sum of each row:"
   ]
  },
  {
   "cell_type": "code",
   "execution_count": 12,
   "id": "f9b1eb3a-a9c1-45b9-a1ad-58fb5250ecf4",
   "metadata": {},
   "outputs": [
    {
     "data": {
      "text/plain": [
       "array([[2392.8],\n",
       "       [ 347.6],\n",
       "       [  93.6]])"
      ]
     },
     "execution_count": 12,
     "metadata": {},
     "output_type": "execute_result"
    }
   ],
   "source": [
    "# Compute sum of row for each row\n",
    "rows_sum = transition_matrix.sum(axis=1, keepdims=True)\n",
    "\n",
    "# Print sum of rows\n",
    "rows_sum"
   ]
  },
  {
   "cell_type": "markdown",
   "id": "75e1b38e-6643-4568-ad6a-198e9a43ee87",
   "metadata": {},
   "source": [
    "Notice that the `sum()` method was used. This method does exactly what its name implies. Since the sum of the rows was desired the axis was set to `1`. In Numpy `axis=1` refers to the columns so the sum is done by summing each column of a particular row, for each row. \n",
    "\n",
    "Also the `keepdims` parameter was set to `True` so the resulting array had shape `(3, 1)` rather than `(3,)`. This was done so that the axes were consistent with the desired operation. \n",
    "\n",
    "When working with Numpy, always remember to check the shape of the arrays you are working with, many unexpected errors happen because of axes not being consistent. The `shape` attribute is your friend for these cases."
   ]
  },
  {
   "cell_type": "code",
   "execution_count": 13,
   "id": "b7cc3523-c3d7-4010-b9c4-4d66bbb19cf3",
   "metadata": {},
   "outputs": [
    {
     "name": "stdout",
     "output_type": "stream",
     "text": [
      "          NN        RB        TO\n",
      "NN  0.678745  0.101596  0.219659\n",
      "RB  0.102992  0.651036  0.245972\n",
      "TO  0.784188  0.213675  0.002137\n"
     ]
    }
   ],
   "source": [
    "# Normalize transition matrix\n",
    "transition_matrix = transition_matrix / rows_sum\n",
    "\n",
    "# Print normalized matrix\n",
    "print_matrix(transition_matrix)"
   ]
  },
  {
   "cell_type": "markdown",
   "id": "e6f853f9-cb9d-473b-9644-eea5620a830a",
   "metadata": {},
   "source": [
    "Notice that the normalization that was carried out forces the sum of each row to be equal to `1`. You can easily check this by running the `sum` method on the resulting matrix:"
   ]
  },
  {
   "cell_type": "code",
   "execution_count": 14,
   "id": "16aa2529-a568-4037-8f33-679d84ef2015",
   "metadata": {},
   "outputs": [
    {
     "data": {
      "text/plain": [
       "array([[1.],\n",
       "       [1.],\n",
       "       [1.]])"
      ]
     },
     "execution_count": 14,
     "metadata": {},
     "output_type": "execute_result"
    }
   ],
   "source": [
    "transition_matrix.sum(axis=1, keepdims=True)"
   ]
  },
  {
   "cell_type": "markdown",
   "id": "d6797196-61b6-4906-95ff-b206d2840a90",
   "metadata": {},
   "source": [
    "For a final example you are asked to modify each value of the diagonal of the matrix so that they are equal to the `log` of the sum of the current row plus the current value. When doing mathematical operations like this one don't forget to import the `math` module. \n",
    "\n",
    "This can be done using a standard `for loop` or `vectorization`. You'll see both in action:"
   ]
  },
  {
   "cell_type": "code",
   "execution_count": 15,
   "id": "0f034794-e5df-4622-9c3f-7bc5cc520377",
   "metadata": {},
   "outputs": [],
   "source": [
    "import math\n",
    "\n",
    "# Copy transition matrix for for-loop example\n",
    "t_matrix_for = np.copy(transition_matrix)\n",
    "\n",
    "# Copy transition matrix for numpy functions example\n",
    "t_matrix_np = np.copy(transition_matrix)"
   ]
  },
  {
   "cell_type": "code",
   "execution_count": 16,
   "id": "6329c19b-0b09-4194-ab81-e3d5eabc9511",
   "metadata": {},
   "outputs": [
    {
     "data": {
      "text/plain": [
       "array([[0.67874457, 0.10159646, 0.21965898],\n",
       "       [0.10299194, 0.65103567, 0.24597238],\n",
       "       [0.78418803, 0.21367521, 0.00213675]])"
      ]
     },
     "execution_count": 16,
     "metadata": {},
     "output_type": "execute_result"
    }
   ],
   "source": [
    "t_matrix_for"
   ]
  },
  {
   "cell_type": "code",
   "execution_count": 17,
   "id": "209ac152-ff45-428f-8b9c-bcfe179a82a9",
   "metadata": {},
   "outputs": [
    {
     "data": {
      "text/plain": [
       "array([[0.67874457, 0.10159646, 0.21965898],\n",
       "       [0.10299194, 0.65103567, 0.24597238],\n",
       "       [0.78418803, 0.21367521, 0.00213675]])"
      ]
     },
     "execution_count": 17,
     "metadata": {},
     "output_type": "execute_result"
    }
   ],
   "source": [
    "t_matrix_np"
   ]
  },
  {
   "cell_type": "markdown",
   "id": "30a7b0ab-34cd-48a9-9047-46e32508dfd4",
   "metadata": {},
   "source": [
    "#### Using a for-loop"
   ]
  },
  {
   "cell_type": "code",
   "execution_count": 19,
   "id": "90c33586-fcae-4724-9482-f5554b121de4",
   "metadata": {},
   "outputs": [
    {
     "name": "stdout",
     "output_type": "stream",
     "text": [
      "          NN        RB        TO\n",
      "NN  8.458964  0.101596  0.219659\n",
      "RB  0.102992  6.502088  0.245972\n",
      "TO  0.784188  0.213675  4.541167\n"
     ]
    }
   ],
   "source": [
    "# Loop values in the diagonal\n",
    "for i in range(num_tags):\n",
    "    t_matrix_for[i,i] = t_matrix_for[i,i] + math.log(rows_sum[i])\n",
    "\n",
    "# Print matrix\n",
    "print_matrix(t_matrix_for)"
   ]
  },
  {
   "cell_type": "markdown",
   "id": "d3f712cc-869d-4607-8825-47b5501abbfa",
   "metadata": {},
   "source": [
    "#### Using vectorization"
   ]
  },
  {
   "cell_type": "code",
   "execution_count": 24,
   "id": "9a49f2d5-d220-449d-bce7-d544ee933e0f",
   "metadata": {},
   "outputs": [
    {
     "name": "stdout",
     "output_type": "stream",
     "text": [
      "(3,)\n"
     ]
    },
    {
     "data": {
      "text/plain": [
       "array([0.67874457, 0.65103567, 0.00213675])"
      ]
     },
     "execution_count": 24,
     "metadata": {},
     "output_type": "execute_result"
    }
   ],
   "source": [
    "# Save diagonal in a numpy array\n",
    "d = np.diag(t_matrix_np)\n",
    "\n",
    "# Print shape of diagonal\n",
    "print(d.shape)\n",
    "\n",
    "d"
   ]
  },
  {
   "cell_type": "markdown",
   "id": "caa6900b-d208-483a-97ba-a57cdb8b5f85",
   "metadata": {},
   "source": [
    "You can save the diagonal in a numpy array using Numpy's `diag()` function. Notice that this array has shape `(3,)` so it is inconsistent with the dimensions of the `rows_sum` array which are `(3, 1)`. You'll have to reshape before moving forward. For this you can use Numpy's `reshape()` function, specifying the desired shape in a tuple:"
   ]
  },
  {
   "cell_type": "code",
   "execution_count": 25,
   "id": "3d214c96-0b53-43f0-864d-e43287f2802d",
   "metadata": {},
   "outputs": [
    {
     "name": "stdout",
     "output_type": "stream",
     "text": [
      "(3, 1)\n"
     ]
    },
    {
     "data": {
      "text/plain": [
       "array([[0.67874457],\n",
       "       [0.65103567],\n",
       "       [0.00213675]])"
      ]
     },
     "execution_count": 25,
     "metadata": {},
     "output_type": "execute_result"
    }
   ],
   "source": [
    "# Reshape diagonal numpy array\n",
    "d = np.reshape(d, (3,1))\n",
    "\n",
    "# Print shape of diagonal\n",
    "print(d.shape)\n",
    "\n",
    "d"
   ]
  },
  {
   "cell_type": "markdown",
   "id": "58c6fad0-989b-4983-8bab-0f01788ca43e",
   "metadata": {},
   "source": [
    "Now that the diagonal has the correct shape you can do the vectorized operation by applying the `math.log()` function to the `rows_sum` array and adding the diagonal. \n",
    "\n",
    "To apply a function to each element of a numpy array use Numpy's `vectorize()` function providing the desired function as a parameter. This function returns a vectorized function that accepts a numpy array as a parameter. \n",
    "\n",
    "To update the original matrix you can use Numpy's `fill_diagonal()` function."
   ]
  },
  {
   "cell_type": "code",
   "execution_count": 27,
   "id": "80e4ad95-2b49-4455-9397-bb0f57b6fbef",
   "metadata": {},
   "outputs": [
    {
     "name": "stdout",
     "output_type": "stream",
     "text": [
      "          NN        RB        TO\n",
      "NN  8.458964  0.101596  0.219659\n",
      "RB  0.102992  6.502088  0.245972\n",
      "TO  0.784188  0.213675  4.541167\n"
     ]
    }
   ],
   "source": [
    "# Perform the vectorized operation\n",
    "d = d + np.vectorize(math.log)(rows_sum)\n",
    "\n",
    "# Use numpy's fill_diagonal function to update the diagonal\n",
    "np.fill_diagonal(t_matrix_np, d)\n",
    "\n",
    "# Print the matrix\n",
    "print_matrix(t_matrix_np)"
   ]
  },
  {
   "cell_type": "markdown",
   "id": "f1acdec9-e373-4ffa-8d18-cd0d002d6a2d",
   "metadata": {},
   "source": [
    "To perform a sanity check that both methods yield the same result you can compare both matrices. Notice that this operation is also vectorized so you will get the equality check for each element in both matrices:"
   ]
  },
  {
   "cell_type": "code",
   "execution_count": 28,
   "id": "3f3d0a30-18e8-450c-89e4-459e2c8a9c58",
   "metadata": {},
   "outputs": [
    {
     "data": {
      "text/plain": [
       "array([[ True,  True,  True],\n",
       "       [ True,  True,  True],\n",
       "       [ True,  True,  True]])"
      ]
     },
     "execution_count": 28,
     "metadata": {},
     "output_type": "execute_result"
    }
   ],
   "source": [
    "# Check for equality\n",
    "t_matrix_for == t_matrix_np"
   ]
  },
  {
   "cell_type": "markdown",
   "id": "0ad0166f-d1ac-4339-98f4-39149cf271c5",
   "metadata": {},
   "source": [
    "**Congratulations on finishing this lecture notebook!** Now you should be more familiar with some elements used by a POS tagger such as the `transition_counts` dictionary and with working with Numpy.\n",
    "\n",
    "**Keep it up!**"
   ]
  },
  {
   "cell_type": "code",
   "execution_count": null,
   "id": "18b5fd3c-5888-44df-93b5-df1aab518202",
   "metadata": {},
   "outputs": [],
   "source": []
  }
 ],
 "metadata": {
  "kernelspec": {
   "display_name": "Python 3 (ipykernel)",
   "language": "python",
   "name": "python3"
  },
  "language_info": {
   "codemirror_mode": {
    "name": "ipython",
    "version": 3
   },
   "file_extension": ".py",
   "mimetype": "text/x-python",
   "name": "python",
   "nbconvert_exporter": "python",
   "pygments_lexer": "ipython3",
   "version": "3.8.19"
  }
 },
 "nbformat": 4,
 "nbformat_minor": 5
}
