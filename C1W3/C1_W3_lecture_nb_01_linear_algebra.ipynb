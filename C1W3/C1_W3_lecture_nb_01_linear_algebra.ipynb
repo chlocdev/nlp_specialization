{
 "cells": [
  {
   "cell_type": "markdown",
   "id": "30f0da43-0320-4310-bf92-ab994b7b8ad9",
   "metadata": {},
   "source": [
    "# Linear algebra in Python with NumPy\n",
    "\n",
    "In this lab, you will have the opportunity to remember some basic concepts about linear algebra and how to use them in Python.\n",
    "\n",
    "Numpy is one of the most used libraries in Python for arrays manipulation. It adds to Python a set of functions that allows us to operate on large multidimensional arrays with just a few lines. So forget about writing nested loops for adding matrices! With NumPy, this is as simple as adding numbers.\n",
    "\n",
    "Let us import the `numpy` library and assign the alias `np` for it. We will follow this convention in almost every notebook in this course, and you'll see this in many resources outside this course as well."
   ]
  },
  {
   "cell_type": "code",
   "execution_count": 1,
   "id": "1319ee98-1f73-4b48-a2f2-1ad5dc2268aa",
   "metadata": {},
   "outputs": [],
   "source": [
    "import numpy as np"
   ]
  },
  {
   "cell_type": "markdown",
   "id": "9e77f807-440a-4252-95f0-7c55ddcbadc8",
   "metadata": {},
   "source": [
    "## Defining lists and numpy arrays"
   ]
  },
  {
   "cell_type": "code",
   "execution_count": 2,
   "id": "7f76288f-f2a8-4601-a002-52e13fd92aff",
   "metadata": {},
   "outputs": [],
   "source": [
    "alist = [1, 2, 3, 4, 5]   # Define a python list. It looks like an np array\n",
    "narray = np.array([1, 2, 3, 4]) # Define a numpy array"
   ]
  },
  {
   "cell_type": "code",
   "execution_count": 3,
   "id": "006f6ee2-6f9b-449f-b3f7-d5430657f979",
   "metadata": {},
   "outputs": [
    {
     "name": "stdout",
     "output_type": "stream",
     "text": [
      "[1, 2, 3, 4, 5]\n",
      "[1 2 3 4]\n",
      "<class 'list'>\n",
      "<class 'numpy.ndarray'>\n"
     ]
    }
   ],
   "source": [
    "# Note the difference between a Python list and a NumPy array.\n",
    "print(alist)\n",
    "print(narray)\n",
    "\n",
    "print(type(alist))\n",
    "print(type(narray))"
   ]
  },
  {
   "cell_type": "markdown",
   "id": "1ba8da75-e099-4e11-824c-9bc1fbe967c5",
   "metadata": {},
   "source": [
    "## Algebraic operators on NumPy arrays vs. Python lists\n",
    "\n",
    "One of the common beginner mistakes is to mix up the concepts of NumPy arrays and Python lists. Just observe the next example, where we add two objects of the two mentioned types. Note that the '+' operator on NumPy arrays perform an element-wise addition, while the same operation on Python lists results in a list concatenation. Be careful while coding. Knowing this can save many headaches."
   ]
  },
  {
   "cell_type": "code",
   "execution_count": 4,
   "id": "1a1a11db-c043-45ca-b6f5-30e1ac32cd42",
   "metadata": {},
   "outputs": [
    {
     "name": "stdout",
     "output_type": "stream",
     "text": [
      "[2 4 6 8]\n",
      "[1, 2, 3, 4, 5, 1, 2, 3, 4, 5]\n"
     ]
    }
   ],
   "source": [
    "print(narray + narray)\n",
    "print(alist + alist)"
   ]
  },
  {
   "cell_type": "markdown",
   "id": "d3bcf0ff-8d4e-4223-b4ef-e69f51e4a950",
   "metadata": {},
   "source": [
    "It is the same as with the product operator, `*`. In the first case, we scale the vector, while in the second case, we concatenate three times the same list."
   ]
  },
  {
   "cell_type": "code",
   "execution_count": 5,
   "id": "dc5c5d79-d82c-4be0-8527-a308e2f3a758",
   "metadata": {},
   "outputs": [
    {
     "name": "stdout",
     "output_type": "stream",
     "text": [
      "[ 3  6  9 12]\n",
      "[1, 2, 3, 4, 5, 1, 2, 3, 4, 5, 1, 2, 3, 4, 5]\n"
     ]
    }
   ],
   "source": [
    "print(narray * 3)\n",
    "print(alist * 3)"
   ]
  },
  {
   "cell_type": "code",
   "execution_count": 8,
   "id": "6af1e0aa-8305-4413-a4f6-94921f09700a",
   "metadata": {},
   "outputs": [
    {
     "name": "stdout",
     "output_type": "stream",
     "text": [
      "[[1 2 3 4]\n",
      " [1 2 3 4]\n",
      " [1 2 3 4]]\n",
      "---\n",
      "[[1 2 3 4 5]\n",
      " [1 2 3 4 5]\n",
      " [1 2 3 4 5]]\n",
      "---\n",
      "[[1 2 3 4]\n",
      " [1 1 1 1]\n",
      " [1 2 3 4]]\n"
     ]
    }
   ],
   "source": [
    "# Matrix initialized with NumPy arrays\n",
    "npmatrix1 = np.array([narray, narray, narray])\n",
    "\n",
    "# Matrix intialized with lists\n",
    "npmatrix2 = np.array([alist, alist, alist])\n",
    "\n",
    "# Matrix initialized with both types\n",
    "npmatrix3 = np.array([narray, [1,1,1,1], narray])\n",
    "\n",
    "print(npmatrix1)\n",
    "print('---')\n",
    "print(npmatrix2)\n",
    "print('---')\n",
    "print(npmatrix3)"
   ]
  },
  {
   "cell_type": "markdown",
   "id": "e88a6290-c58a-4fe5-bde9-03dbbac29858",
   "metadata": {},
   "source": [
    "However, when defining a matrix, be sure that all the rows contain the same number of elements. Otherwise, the linear algebra operations could lead to unexpected results.\n",
    "\n",
    "Analyze the following two examples:"
   ]
  },
  {
   "cell_type": "code",
   "execution_count": 9,
   "id": "00933c58-4598-4130-ac4d-6abca7e5ac49",
   "metadata": {},
   "outputs": [
    {
     "name": "stdout",
     "output_type": "stream",
     "text": [
      "[[1 2]\n",
      " [3 4]]\n",
      "[[2 4]\n",
      " [6 8]]\n"
     ]
    }
   ],
   "source": [
    "# Example1:\n",
    "\n",
    "okmatrix = np.array([[1,2],[3,4]]) # Define 2x2 matrix\n",
    "\n",
    "print(okmatrix) # Print okmatrix\n",
    "print(okmatrix * 2) # Print a scaled version of okmatrix"
   ]
  },
  {
   "cell_type": "code",
   "execution_count": 10,
   "id": "5fec77c8-07b7-4638-968b-15a537683b18",
   "metadata": {},
   "outputs": [
    {
     "ename": "ValueError",
     "evalue": "setting an array element with a sequence. The requested array has an inhomogeneous shape after 1 dimensions. The detected shape was (3,) + inhomogeneous part.",
     "output_type": "error",
     "traceback": [
      "\u001b[0;31m---------------------------------------------------------------------------\u001b[0m",
      "\u001b[0;31mValueError\u001b[0m                                Traceback (most recent call last)",
      "Cell \u001b[0;32mIn[10], line 3\u001b[0m\n\u001b[1;32m      1\u001b[0m \u001b[38;5;66;03m# Example 2:\u001b[39;00m\n\u001b[0;32m----> 3\u001b[0m badmatrix \u001b[38;5;241m=\u001b[39m \u001b[43mnp\u001b[49m\u001b[38;5;241;43m.\u001b[39;49m\u001b[43marray\u001b[49m\u001b[43m(\u001b[49m\u001b[43m[\u001b[49m\u001b[43m[\u001b[49m\u001b[38;5;241;43m1\u001b[39;49m\u001b[43m,\u001b[49m\u001b[43m \u001b[49m\u001b[38;5;241;43m2\u001b[39;49m\u001b[43m]\u001b[49m\u001b[43m,\u001b[49m\u001b[43m \u001b[49m\u001b[43m[\u001b[49m\u001b[38;5;241;43m3\u001b[39;49m\u001b[43m,\u001b[49m\u001b[43m \u001b[49m\u001b[38;5;241;43m4\u001b[39;49m\u001b[43m]\u001b[49m\u001b[43m,\u001b[49m\u001b[43m \u001b[49m\u001b[43m[\u001b[49m\u001b[38;5;241;43m5\u001b[39;49m\u001b[43m,\u001b[49m\u001b[43m \u001b[49m\u001b[38;5;241;43m6\u001b[39;49m\u001b[43m,\u001b[49m\u001b[43m \u001b[49m\u001b[38;5;241;43m7\u001b[39;49m\u001b[43m]\u001b[49m\u001b[43m]\u001b[49m\u001b[43m)\u001b[49m \u001b[38;5;66;03m# Define a matrix. Note the third row contains 3 elements\u001b[39;00m\n\u001b[1;32m      4\u001b[0m \u001b[38;5;28mprint\u001b[39m(badmatrix) \u001b[38;5;66;03m# Print the malformed matrix\u001b[39;00m\n\u001b[1;32m      5\u001b[0m \u001b[38;5;28mprint\u001b[39m(badmatrix \u001b[38;5;241m*\u001b[39m \u001b[38;5;241m2\u001b[39m) \u001b[38;5;66;03m# It is supposed to scale the whole matrix\u001b[39;00m\n",
      "\u001b[0;31mValueError\u001b[0m: setting an array element with a sequence. The requested array has an inhomogeneous shape after 1 dimensions. The detected shape was (3,) + inhomogeneous part."
     ]
    }
   ],
   "source": [
    "# Example 2:\n",
    "\n",
    "badmatrix = np.array([[1, 2], [3, 4], [5, 6, 7]]) # Define a matrix. Note the third row contains 3 elements\n",
    "print(badmatrix) # Print the malformed matrix\n",
    "print(badmatrix * 2) # It is supposed to scale the whole matrix"
   ]
  },
  {
   "cell_type": "markdown",
   "id": "4d113833-96fb-4be4-8e2b-9f7c2ab958ff",
   "metadata": {},
   "source": [
    "## Scaling and translating matrices\n",
    "\n",
    "Now that you know how to build correct NumPy arrays and matrices, let us see how easy it is to operate with them in Python using the regular algebraic operators like + and -. \n",
    "\n",
    "Operations can be performed between arrays and arrays or between arrays and scalars."
   ]
  },
  {
   "cell_type": "code",
   "execution_count": 11,
   "id": "c0f03cb5-28e3-4ee5-9981-bc49958c2e52",
   "metadata": {},
   "outputs": [
    {
     "name": "stdout",
     "output_type": "stream",
     "text": [
      "[[3 5]\n",
      " [7 9]]\n"
     ]
    }
   ],
   "source": [
    "# Scale by 2 and translate 1 unit the matrix\n",
    "result = okmatrix * 2 + 1 # For each element in the matrix, multiply by 2 and add 1\n",
    "print(result)"
   ]
  },
  {
   "cell_type": "code",
   "execution_count": 12,
   "id": "85671014-e517-4c08-acf6-c2144692fd5e",
   "metadata": {},
   "outputs": [
    {
     "name": "stdout",
     "output_type": "stream",
     "text": [
      "[[2 4]\n",
      " [6 8]]\n",
      "[[0 0]\n",
      " [0 0]]\n"
     ]
    }
   ],
   "source": [
    "# Add two compatible matrices\n",
    "result1 = okmatrix + okmatrix\n",
    "print(result1)\n",
    "\n",
    "# Subtract two compatible matrices. This is called the difference vector\n",
    "result2 = okmatrix - okmatrix\n",
    "print(result2)"
   ]
  },
  {
   "cell_type": "markdown",
   "id": "0368b0ca-0ec2-439f-a192-bf1dfd1fedda",
   "metadata": {},
   "source": [
    "The product operator `*` when used on arrays or matrices indicates element-wise multiplications.\n",
    "Do not confuse it with the dot product."
   ]
  },
  {
   "cell_type": "code",
   "execution_count": 13,
   "id": "67c9ba74-ed41-483f-81cf-c91b5c2a29bd",
   "metadata": {},
   "outputs": [
    {
     "name": "stdout",
     "output_type": "stream",
     "text": [
      "[[ 1  4]\n",
      " [ 9 16]]\n"
     ]
    }
   ],
   "source": [
    "result = okmatrix * okmatrix # Multiply each element by itself\n",
    "print(result)"
   ]
  },
  {
   "cell_type": "markdown",
   "id": "828d53f0-3006-4532-a52e-5f021d21ded2",
   "metadata": {},
   "source": [
    "## Transpose a matrix\n",
    "\n",
    "In linear algebra, the transpose of a matrix is an operator that flips a matrix over its diagonal, i.e., the transpose operator switches the row and column indices of the matrix producing another matrix. If the original matrix dimension is n by m, the resulting transposed matrix will be m by n.\n",
    "\n",
    "**T** denotes the transpose operations with NumPy matrices."
   ]
  },
  {
   "cell_type": "code",
   "execution_count": 14,
   "id": "291932ce-a62f-420f-8fc4-65025990dff4",
   "metadata": {},
   "outputs": [
    {
     "name": "stdout",
     "output_type": "stream",
     "text": [
      "Original matrix 3 x 2\n",
      "[[1 2]\n",
      " [3 4]\n",
      " [5 6]]\n",
      "Transposed matrix 2 x 3\n",
      "[[1 3 5]\n",
      " [2 4 6]]\n"
     ]
    }
   ],
   "source": [
    "matrix3x2 = np.array([[1, 2], [3, 4], [5, 6]]) # Define a 3x2 matrix\n",
    "print('Original matrix 3 x 2')\n",
    "print(matrix3x2)\n",
    "print('Transposed matrix 2 x 3')\n",
    "print(matrix3x2.T)"
   ]
  },
  {
   "cell_type": "markdown",
   "id": "4692ad4b-faf4-4648-ad6b-4de859ad638a",
   "metadata": {},
   "source": [
    "However, note that the transpose operation does not affect 1D arrays."
   ]
  },
  {
   "cell_type": "code",
   "execution_count": 15,
   "id": "e9e72a3f-e469-4061-8cf4-25d2c71bdad8",
   "metadata": {},
   "outputs": [
    {
     "name": "stdout",
     "output_type": "stream",
     "text": [
      "Original array\n",
      "[[1 2 3 4]]\n",
      "Transposed array\n",
      "[[1]\n",
      " [2]\n",
      " [3]\n",
      " [4]]\n"
     ]
    }
   ],
   "source": [
    "nparray = np.array([[1, 2, 3, 4]]) # Define a 1 x 4 matrix. Note the 2 level of square brackets\n",
    "print('Original array')\n",
    "print(nparray)\n",
    "print('Transposed array')\n",
    "print(nparray.T)"
   ]
  },
  {
   "cell_type": "markdown",
   "id": "1b5f4515-b2c5-4051-98ac-96216dd0fbf2",
   "metadata": {},
   "source": [
    "## Get the norm of a nparray or matrix\n",
    "\n",
    "In linear algebra, the norm of an n-dimensional vector $\\vec a$   is defined as:\n",
    "\n",
    "$$ norm(\\vec a) = ||\\vec a|| = \\sqrt {\\sum_{i=1}^{n} a_i ^ 2}$$\n",
    "\n",
    "Calculating the norm of vector or even of a matrix is a general operation when dealing with data. Numpy has a set of functions for linear algebra in the subpackage **linalg**, including the **norm** function. Let us see how to get the norm a given array or matrix:"
   ]
  },
  {
   "cell_type": "code",
   "execution_count": 18,
   "id": "97b18762-9ce5-42f0-a65e-00b32f3b0a89",
   "metadata": {},
   "outputs": [
    {
     "name": "stdout",
     "output_type": "stream",
     "text": [
      "5.477225575051661\n",
      "5.477225575051661\n"
     ]
    }
   ],
   "source": [
    "nparrray1 = np.array([1,2,3,4]) # Define an array\n",
    "norm1 = np.linalg.norm(nparrray1)\n",
    "\n",
    "nparray2 = np.array([[1, 2], [3, 4]]) # Define a 2 x 2 matrix. Note the 2 level of square brackets\n",
    "norm2 = np.linalg.norm(nparray2)\n",
    "\n",
    "print(norm1)\n",
    "print(norm2)"
   ]
  },
  {
   "cell_type": "markdown",
   "id": "8bdc9456-36fd-4aca-b610-a9596d9f0db9",
   "metadata": {},
   "source": [
    "Note that without any other parameter, the norm function treats the matrix as being just an array of numbers.\n",
    "However, it is possible to get the norm by rows or by columns. The **axis** parameter controls the form of the operation: \n",
    "* **axis=0** means get the norm of each column\n",
    "* **axis=1** means get the norm of each row. "
   ]
  },
  {
   "cell_type": "code",
   "execution_count": 19,
   "id": "e77c38a9-c5c2-4a37-a50e-55e8426b53e4",
   "metadata": {},
   "outputs": [
    {
     "name": "stdout",
     "output_type": "stream",
     "text": [
      "[3.74165739 3.74165739]\n",
      "[1.41421356 2.82842712 4.24264069]\n"
     ]
    }
   ],
   "source": [
    "nparray2 = np.array([[1, 1], [2, 2], [3, 3]]) # Define a 3 x 2 matrix. \n",
    "\n",
    "normByCols = np.linalg.norm(nparray2, axis=0) # Get the norm for each column. Returns 2 elements\n",
    "normByRows = np.linalg.norm(nparray2, axis=1) # get the norm for each row. Returns 3 elements\n",
    "\n",
    "print(normByCols)\n",
    "print(normByRows)"
   ]
  },
  {
   "cell_type": "markdown",
   "id": "ac12665a-cc6b-4e31-b325-0937ff30df41",
   "metadata": {},
   "source": [
    "However, there are more ways to get the norm of a matrix in Python.\n",
    "For that, let us see all the different ways of defining the dot product between 2 arrays."
   ]
  },
  {
   "cell_type": "markdown",
   "id": "ab9b56f3-92b4-484f-b452-c87e4fa1036f",
   "metadata": {},
   "source": [
    "## The dot product between arrays: All the flavors\n",
    "\n",
    "The dot product or scalar product or inner product between two vectors $\\vec a$ and $\\vec b$ of the same size is defined as:\n",
    "$$\\vec a \\cdot \\vec b = \\sum_{i=1}^{n} a_i b_i$$\n",
    "\n",
    "The dot product takes two vectors and returns a single number."
   ]
  },
  {
   "cell_type": "code",
   "execution_count": 20,
   "id": "90bc4825-4700-43e0-8b82-c307aef4a69a",
   "metadata": {},
   "outputs": [
    {
     "name": "stdout",
     "output_type": "stream",
     "text": [
      "flavor1 38\n",
      "flavor2 38\n",
      "flavor3 38\n",
      "flavor4 38\n"
     ]
    }
   ],
   "source": [
    "nparray1 = np.array([0, 1, 2, 3]) # Define an array\n",
    "nparray2 = np.array([4, 5, 6, 7]) # Define an array\n",
    "\n",
    "flavor1 = np.dot(nparray1, nparray2) # Recommended way\n",
    "print('flavor1',flavor1)\n",
    "\n",
    "flavor2 = np.sum(nparray1 * nparray2) # Ok way\n",
    "print('flavor2', flavor2)\n",
    "\n",
    "flavor3 = nparray1 @ nparray2 # Geeks way\n",
    "print('flavor3', flavor3)\n",
    "\n",
    "# As you never should do: Noobs way\n",
    "flavor4= 0\n",
    "for a, b in zip(nparray1, nparray2):\n",
    "    flavor4 += a * b\n",
    "\n",
    "print('flavor4', flavor4)"
   ]
  },
  {
   "cell_type": "markdown",
   "id": "06aca0ed-e81a-4747-8897-f67f6d1f030e",
   "metadata": {},
   "source": [
    "**We strongly recommend using np.dot, since it is the only method that accepts arrays and lists without problems**"
   ]
  },
  {
   "cell_type": "code",
   "execution_count": 21,
   "id": "e3a8977d-b453-4429-bbe2-0849d3380171",
   "metadata": {},
   "outputs": [
    {
     "name": "stdout",
     "output_type": "stream",
     "text": [
      "11 = 11\n"
     ]
    }
   ],
   "source": [
    "norm1 = np.dot(np.array([1, 2]), np.array([3, 4])) # Dot product on nparrays\n",
    "norm2 = np.dot([1, 2], [3, 4]) # Dot product on python lists\n",
    "\n",
    "print(norm1, '=', norm2 )"
   ]
  },
  {
   "cell_type": "markdown",
   "id": "22bc3ea1-ecca-463f-8613-505a22c0f655",
   "metadata": {},
   "source": [
    "Finally, note that the norm is the square root of the dot product of the vector with itself. That gives many options to write that function:\n",
    "\n",
    "$$ norm(\\vec a) = ||\\vec a|| = \\sqrt {\\sum_{i=1}^{n} a_i ^ 2} = \\sqrt {a \\cdot a}$$\n"
   ]
  },
  {
   "cell_type": "markdown",
   "id": "392d090b-7ed2-4d04-a261-9bf7e0fa6dcf",
   "metadata": {},
   "source": [
    "## Sums by rows or columns\n",
    "\n",
    "Another general operation performed on matrices is the sum by rows or columns.\n",
    "Just as we did for the function norm, the **axis** parameter controls the form of the operation:\n",
    "* **axis=0** means to sum the elements of each column together. \n",
    "* **axis=1** means to sum the elements of each row together."
   ]
  },
  {
   "cell_type": "code",
   "execution_count": 22,
   "id": "18c9af8b-676f-462f-9ae9-36a28b684889",
   "metadata": {},
   "outputs": [
    {
     "name": "stdout",
     "output_type": "stream",
     "text": [
      "Sum by columns: \n",
      "[ 6 -6]\n",
      "Sum by rows: \n",
      "[0 0 0]\n"
     ]
    }
   ],
   "source": [
    "nparray2 = np.array([[1, -1], [2, -2], [3, -3]]) # Define a 3 x 2 matrix. \n",
    "\n",
    "sumByCols = np.sum(nparray2, axis=0) # Get the sum for each column. Returns 2 elements\n",
    "sumByRows = np.sum(nparray2, axis=1) # get the sum for each row. Returns 3 elements\n",
    "\n",
    "print('Sum by columns: ')\n",
    "print(sumByCols)\n",
    "print('Sum by rows: ')\n",
    "print(sumByRows)"
   ]
  },
  {
   "cell_type": "markdown",
   "id": "979207d1-860e-49ce-ad9e-d2553aea4682",
   "metadata": {},
   "source": [
    "## Get the mean by rows or columns\n",
    "\n",
    "As with the sums, one can get the **mean** by rows or columns using the **axis** parameter. Just remember that the mean is the sum of the elements divided by the length of the vector\n",
    "$$ mean(\\vec a) = \\frac {{\\sum_{i=1}^{n} a_i }}{n}$$"
   ]
  },
  {
   "cell_type": "code",
   "execution_count": 23,
   "id": "4c2397fb-42d0-42ee-92c1-fa7ba2e5548c",
   "metadata": {},
   "outputs": [
    {
     "name": "stdout",
     "output_type": "stream",
     "text": [
      "Matrix mean: \n",
      "0.0\n",
      "Mean by columns: \n",
      "[ 2. -2.]\n",
      "Mean by rows: \n",
      "[0. 0. 0.]\n"
     ]
    }
   ],
   "source": [
    "nparray2 = np.array([[1, -1], [2, -2], [3, -3]]) # Define a 3 x 2 matrix. Chosen to be a matrix with 0 mean\n",
    "\n",
    "mean = np.mean(nparray2) # Get the mean for the whole matrix\n",
    "meanByCols = np.mean(nparray2, axis=0) # Get the mean for each column. Returns 2 elements\n",
    "meanByRows = np.mean(nparray2, axis=1) # get the mean for each row. Returns 3 elements\n",
    "\n",
    "print('Matrix mean: ')\n",
    "print(mean)\n",
    "\n",
    "print('Mean by columns: ')\n",
    "print(meanByCols)\n",
    "\n",
    "print('Mean by rows: ')\n",
    "print(meanByRows)"
   ]
  },
  {
   "cell_type": "markdown",
   "id": "feccea6f-6bff-4b36-a23a-7f6cc9f0442d",
   "metadata": {},
   "source": [
    "## Center the columns of a matrix\n",
    "\n",
    "Centering the attributes of a data matrix is another essential preprocessing step. Centering a matrix means to remove the column mean to each element inside the column. The mean by columns of a centered matrix is always 0.\n",
    "\n",
    "With NumPy, this process is as simple as this:"
   ]
  },
  {
   "cell_type": "code",
   "execution_count": 24,
   "id": "4a511ed7-6b02-412e-a096-8e9f9349c1bd",
   "metadata": {},
   "outputs": [
    {
     "name": "stdout",
     "output_type": "stream",
     "text": [
      "Original matrix\n",
      "[[1 1]\n",
      " [2 2]\n",
      " [3 3]]\n",
      "Centered by columns matrix\n",
      "[[-1. -1.]\n",
      " [ 0.  0.]\n",
      " [ 1.  1.]]\n",
      "New mean by column\n",
      "[0. 0.]\n"
     ]
    }
   ],
   "source": [
    "nparray2 = np.array([[1,1],[2,2],[3,3]]) # Define a 3x2 matrix\n",
    "nparrayCentered = nparray2 - np.mean(nparray2, axis=0) # Remove the mean\n",
    "\n",
    "print('Original matrix')\n",
    "print(nparray2)\n",
    "\n",
    "print('Centered by columns matrix')\n",
    "print(nparrayCentered)\n",
    "\n",
    "print('New mean by column')\n",
    "print(nparrayCentered.mean(axis=0))"
   ]
  },
  {
   "cell_type": "markdown",
   "id": "9426b700-f233-4fa6-bb98-8f14c2181b5b",
   "metadata": {},
   "source": [
    "**Warning:** This process does not apply for row centering. In such cases, consider transposing the matrix, centering by columns, and then transpose back the result. \n",
    "\n",
    "See the example below:"
   ]
  },
  {
   "cell_type": "code",
   "execution_count": 27,
   "id": "c9ab2250-1e29-4eba-8a73-f78da565847d",
   "metadata": {},
   "outputs": [
    {
     "name": "stdout",
     "output_type": "stream",
     "text": [
      "Original matrix\n",
      "[[1 3]\n",
      " [2 4]\n",
      " [3 5]]\n",
      "Mean matrix\n",
      "[2. 3. 4.]\n",
      "Centered by rows matrix Before Transpose\n",
      "[[-1. -1. -1.]\n",
      " [ 1.  1.  1.]]\n",
      "Centered by rows matrix Before After\n",
      "[[-1.  1.]\n",
      " [-1.  1.]\n",
      " [-1.  1.]]\n",
      "New mean by rows\n",
      "[0. 0. 0.]\n"
     ]
    }
   ],
   "source": [
    "nparray2 = np.array([[1, 3], [2, 4], [3, 5]]) # Define a 3 x 2 matrix. \n",
    "\n",
    "print('Original matrix')\n",
    "print(nparray2)\n",
    "\n",
    "mean_nparray = np.mean(nparray2, axis=1)\n",
    "print('Mean matrix')\n",
    "print(mean_nparray)\n",
    "\n",
    "nparrayCentered = nparray2.T - mean_nparray # Remove the mean for each row\n",
    "print('Centered by rows matrix Before Transpose')\n",
    "print(nparrayCentered)\n",
    "\n",
    "nparrayCentered = nparrayCentered.T # Transpose back the result\n",
    "print('Centered by rows matrix Before After')\n",
    "print(nparrayCentered)\n",
    "\n",
    "print('New mean by rows')\n",
    "print(nparrayCentered.mean(axis=1))"
   ]
  },
  {
   "cell_type": "code",
   "execution_count": 28,
   "id": "3804dfd5-00d0-4263-9b4b-6a842d221528",
   "metadata": {},
   "outputs": [
    {
     "data": {
      "text/plain": [
       "array([[1, 2, 3],\n",
       "       [3, 4, 5]])"
      ]
     },
     "execution_count": 28,
     "metadata": {},
     "output_type": "execute_result"
    }
   ],
   "source": [
    "nparray2.T"
   ]
  },
  {
   "cell_type": "code",
   "execution_count": 29,
   "id": "3f173ef1-cbfb-4405-b958-e6b6b79c5be5",
   "metadata": {},
   "outputs": [
    {
     "data": {
      "text/plain": [
       "array([2., 3., 4.])"
      ]
     },
     "execution_count": 29,
     "metadata": {},
     "output_type": "execute_result"
    }
   ],
   "source": [
    "np.mean(nparray2, axis=1)"
   ]
  },
  {
   "cell_type": "markdown",
   "id": "2f8d719a-e60e-45cb-b121-022ebf1237c2",
   "metadata": {},
   "source": [
    "Note that some operations can be performed using static functions like `np.sum()` or `np.mean()`, or by using the inner functions of the array"
   ]
  },
  {
   "cell_type": "code",
   "execution_count": 30,
   "id": "05d5cb98-b6c5-42ce-b7e9-2e18f36be2f4",
   "metadata": {},
   "outputs": [
    {
     "name": "stdout",
     "output_type": "stream",
     "text": [
      "3.0  ==  3.0\n"
     ]
    }
   ],
   "source": [
    "nparray2 = np.array([[1, 3], [2, 4], [3, 5]]) # Define a 3 x 2 matrix. \n",
    "\n",
    "mean1 = np.mean(nparray2) # Static way\n",
    "mean2 = nparray2.mean()   # Dynamic way\n",
    "\n",
    "print(mean1, ' == ', mean2)"
   ]
  },
  {
   "cell_type": "markdown",
   "id": "901e30d4-edd9-4191-b366-e461cebd9e69",
   "metadata": {},
   "source": [
    "Even if they are equivalent, we recommend the use of the static way always.\n",
    "\n",
    "**Congratulations! You have successfully reviewed vector and matrix operations with Numpy!**"
   ]
  },
  {
   "cell_type": "code",
   "execution_count": null,
   "id": "ab5ad243-a740-4cff-815e-72ce5a40ce26",
   "metadata": {},
   "outputs": [],
   "source": []
  }
 ],
 "metadata": {
  "kernelspec": {
   "display_name": "Python 3 (ipykernel)",
   "language": "python",
   "name": "python3"
  },
  "language_info": {
   "codemirror_mode": {
    "name": "ipython",
    "version": 3
   },
   "file_extension": ".py",
   "mimetype": "text/x-python",
   "name": "python",
   "nbconvert_exporter": "python",
   "pygments_lexer": "ipython3",
   "version": "3.8.19"
  }
 },
 "nbformat": 4,
 "nbformat_minor": 5
}
